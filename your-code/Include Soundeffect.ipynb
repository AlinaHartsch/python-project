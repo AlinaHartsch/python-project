{
 "cells": [
  {
   "cell_type": "code",
   "execution_count": 3,
   "id": "5144d847",
   "metadata": {},
   "outputs": [],
   "source": [
    "from playsound import playsound"
   ]
  },
  {
   "cell_type": "code",
   "execution_count": null,
   "id": "5ece5190",
   "metadata": {
    "scrolled": true
   },
   "outputs": [],
   "source": [
    "playsound(r\"C:\\\\Users\\\\Alina Hartsch\\\\Downloads\\\\household_door_creak_wooden_hollow_007.mp3\")"
   ]
  },
  {
   "cell_type": "code",
   "execution_count": null,
   "id": "f84d4dcf",
   "metadata": {},
   "outputs": [],
   "source": []
  }
 ],
 "metadata": {
  "kernelspec": {
   "display_name": "Python 3 (ipykernel)",
   "language": "python",
   "name": "python3"
  },
  "language_info": {
   "codemirror_mode": {
    "name": "ipython",
    "version": 3
   },
   "file_extension": ".py",
   "mimetype": "text/x-python",
   "name": "python",
   "nbconvert_exporter": "python",
   "pygments_lexer": "ipython3",
   "version": "3.9.7"
  }
 },
 "nbformat": 4,
 "nbformat_minor": 5
}
