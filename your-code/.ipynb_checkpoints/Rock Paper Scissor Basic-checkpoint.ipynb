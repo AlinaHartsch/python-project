{
 "cells": [
  {
   "cell_type": "code",
   "execution_count": 6,
   "id": "eb1de1bc",
   "metadata": {},
   "outputs": [
    {
     "name": "stdout",
     "output_type": "stream",
     "text": [
      "You examined a special object - to access its hidden gem, you must win a game of rock paper scissors! Good Luck! Enter a choice (Rock, Paper, Scissor): Rock\n",
      "\n",
      "You chose rock, computer chose scissors.\n",
      "\n"
     ]
    }
   ],
   "source": [
    "import random\n",
    "user_action = input(\"Congratulations - you unlocked the final door! To enter the outside world, you must win a game of rock paper scissors! Good Luck! Enter a choice (Rock, Paper, Scissor): \")\n",
    "converted_user_action=user_action.lower()\n",
    "possible_actions = [\"rock\", \"paper\", \"scissors\"]\n",
    "computer_action = random.choice(possible_actions)\n",
    "print(f\"\\nYou chose {converted_user_action}, computer chose {computer_action}.\\n\")\n"
   ]
  },
  {
   "cell_type": "code",
   "execution_count": 7,
   "id": "bf1671cd",
   "metadata": {},
   "outputs": [
    {
     "name": "stdout",
     "output_type": "stream",
     "text": [
      "Rock smashes scissors! You win!\n"
     ]
    }
   ],
   "source": [
    "\n",
    "if converted_user_action == computer_action:\n",
    "    print(f\"Both players selected {converted_user_action}. It's a tie!\")\n",
    "elif converted_user_action == \"rock\":\n",
    "    if computer_action == \"scissors\":\n",
    "        print(\"Rock smashes scissors! You win!\")\n",
    "    else:\n",
    "        print(\"Paper covers rock! You lose.\")\n",
    "elif converted_user_action == \"paper\":\n",
    "    if computer_action == \"rock\":\n",
    "        print(\"Paper covers rock! You win!\")\n",
    "    else:\n",
    "        print(\"Scissors cuts paper! You lose.\")\n",
    "elif converted_user_action == \"scissors\":\n",
    "    if computer_action == \"paper\":\n",
    "        print(\"Scissors cuts paper! You win!\")\n",
    "    else:\n",
    "        print(\"Rock smashes scissors! You lose.\")"
   ]
  },
  {
   "cell_type": "code",
   "execution_count": null,
   "id": "eeec97e8",
   "metadata": {},
   "outputs": [],
   "source": []
  }
 ],
 "metadata": {
  "kernelspec": {
   "display_name": "Python 3 (ipykernel)",
   "language": "python",
   "name": "python3"
  },
  "language_info": {
   "codemirror_mode": {
    "name": "ipython",
    "version": 3
   },
   "file_extension": ".py",
   "mimetype": "text/x-python",
   "name": "python",
   "nbconvert_exporter": "python",
   "pygments_lexer": "ipython3",
   "version": "3.9.12"
  }
 },
 "nbformat": 4,
 "nbformat_minor": 5
}
